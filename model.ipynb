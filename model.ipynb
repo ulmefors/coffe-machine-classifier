{
 "cells": [
  {
   "cell_type": "code",
   "execution_count": null,
   "metadata": {},
   "outputs": [],
   "source": [
    "import os\n",
    "import requests\n",
    "\n",
    "from path import Path\n",
    "import fastai.vision.all as V\n",
    "from fastai.vision.all import L\n",
    "\n",
    "# Bing configuration\n",
    "AZURE_SEARCH_KEY = os.environ['AZURE_SEARCH_KEY']\n",
    "BING_API_ENDPOINT = \"https://api.bing.microsoft.com/v7.0/images/search\""
   ]
  },
  {
   "cell_type": "markdown",
   "metadata": {},
   "source": [
    "### Project categories"
   ]
  },
  {
   "cell_type": "code",
   "execution_count": null,
   "metadata": {},
   "outputs": [],
   "source": [
    "path = Path('images')\n",
    "categories = 'la-pavoni-europiccola', 'niche-zero', 'moccamaster'"
   ]
  },
  {
   "cell_type": "markdown",
   "metadata": {},
   "source": [
    "### Functions"
   ]
  },
  {
   "cell_type": "code",
   "execution_count": null,
   "metadata": {},
   "outputs": [],
   "source": [
    "def search_images_bing(key: str, term: str) -> L:\n",
    "    headers = {'Ocp-Apim-Subscription-Key': key}\n",
    "    params = {'q': term, 'textDecorations': True, 'textFormat': 'HTML'}\n",
    "    response = requests.get(BING_API_ENDPOINT, headers=headers, params=params)\n",
    "    response.raise_for_status()\n",
    "    search_results = L(response.json()['value'])\n",
    "    return search_results\n",
    "\n",
    "\n",
    "def create_dataset(path: Path, categories: iter) -> None:\n",
    "    if not path.exists():\n",
    "        for category in categories:\n",
    "            dest = (path/category)\n",
    "            os.makedirs(dest, exist_ok=True)\n",
    "            results = search_images_bing(AZURE_SEARCH_KEY, f'{category}'.replace('-', ' '))\n",
    "            V.download_images(dest, urls=results.attrgot('contentUrl'))\n",
    "\n",
    "\n",
    "def remove_failed_images(path: Path) -> L:\n",
    "    image_paths = V.get_image_files(path)\n",
    "    failed_images = V.verify_images(image_paths)\n",
    "    return failed_images.map(Path.unlink)            "
   ]
  },
  {
   "cell_type": "markdown",
   "metadata": {},
   "source": [
    "### Download data"
   ]
  },
  {
   "cell_type": "code",
   "execution_count": null,
   "metadata": {},
   "outputs": [],
   "source": [
    "create_dataset(path, categories)\n",
    "remove_failed_images(path)"
   ]
  },
  {
   "cell_type": "markdown",
   "metadata": {},
   "source": [
    "### Create dataset"
   ]
  },
  {
   "cell_type": "code",
   "execution_count": null,
   "metadata": {},
   "outputs": [],
   "source": [
    "data_block = V.DataBlock(\n",
    "    blocks=(V.ImageBlock, V.CategoryBlock),\n",
    "    get_items=V.get_image_files,\n",
    "    splitter=V.RandomSplitter(valid_pct=0.2, seed=42),\n",
    "    item_tfms=V.Resize(480),  # Presizing for single interpolation on GPU\n",
    "    batch_tfms=V.aug_transforms(size=224, min_scale=0.75),\n",
    "    get_y=V.parent_label,\n",
    ")"
   ]
  },
  {
   "cell_type": "markdown",
   "metadata": {},
   "source": [
    "### Create dataloaders"
   ]
  },
  {
   "cell_type": "code",
   "execution_count": null,
   "metadata": {},
   "outputs": [],
   "source": [
    "dls = data_block.dataloaders(path)\n",
    "dls.valid.show_batch(max_n=4, nrows=1)"
   ]
  },
  {
   "cell_type": "markdown",
   "metadata": {},
   "source": [
    "### Create model using transfer learning"
   ]
  },
  {
   "cell_type": "code",
   "execution_count": null,
   "metadata": {},
   "outputs": [],
   "source": [
    "learn = V.cnn_learner(dls, V.resnet18, metrics=V.error_rate)"
   ]
  },
  {
   "cell_type": "markdown",
   "metadata": {},
   "source": [
    "### Fine tune model"
   ]
  },
  {
   "cell_type": "code",
   "execution_count": null,
   "metadata": {},
   "outputs": [],
   "source": [
    "learn.fine_tune(1)"
   ]
  },
  {
   "cell_type": "markdown",
   "metadata": {},
   "source": [
    "### Confusion Matrix "
   ]
  },
  {
   "cell_type": "code",
   "execution_count": null,
   "metadata": {},
   "outputs": [],
   "source": [
    "interp = V.ClassificationInterpretation.from_learner(learn)\n",
    "interp.plot_confusion_matrix()"
   ]
  },
  {
   "cell_type": "markdown",
   "metadata": {},
   "source": [
    "### Top Losses"
   ]
  },
  {
   "cell_type": "code",
   "execution_count": null,
   "metadata": {},
   "outputs": [],
   "source": [
    "interp.plot_top_losses(2, nrows=2)"
   ]
  }
 ],
 "metadata": {
  "kernelspec": {
   "display_name": "Python 3",
   "language": "python",
   "name": "python3"
  },
  "language_info": {
   "codemirror_mode": {
    "name": "ipython",
    "version": 3
   },
   "file_extension": ".py",
   "mimetype": "text/x-python",
   "name": "python",
   "nbconvert_exporter": "python",
   "pygments_lexer": "ipython3",
   "version": "3.6.12"
  }
 },
 "nbformat": 4,
 "nbformat_minor": 4
}
